{
 "cells": [
  {
   "cell_type": "code",
   "execution_count": 2,
   "metadata": {},
   "outputs": [],
   "source": [
    "#Import cell\n",
    "import numpy as np"
   ]
  },
  {
   "cell_type": "code",
   "execution_count": 6,
   "metadata": {},
   "outputs": [],
   "source": [
    "# Parameters\n",
    "\n",
    "letter_1 = ['b', 'c', 'd', 'f', 'g', 'h', 'j', 'k', 'l', 'm', 'n', 'o', 'p', 'q', 'r', 's', 't', 'x', 'y', 'z']\n",
    "letter_2 = ['a', 'o', 'u']"
   ]
  },
  {
   "cell_type": "code",
   "execution_count": 7,
   "metadata": {},
   "outputs": [
    {
     "name": "stdout",
     "output_type": "stream",
     "text": [
      "Mingbai\n",
      "Mingboi\n",
      "Mingbui\n",
      "Mingcai\n",
      "Mingcoi\n",
      "Mingcui\n",
      "Mingdai\n",
      "Mingdoi\n",
      "Mingdui\n",
      "Mingfai\n",
      "Mingfoi\n",
      "Mingfui\n",
      "Minggai\n",
      "Minggoi\n",
      "Minggui\n",
      "Minghai\n",
      "Minghoi\n",
      "Minghui\n",
      "Mingjai\n",
      "Mingjoi\n",
      "Mingjui\n",
      "Mingkai\n",
      "Mingkoi\n",
      "Mingkui\n",
      "Minglai\n",
      "Mingloi\n",
      "Minglui\n",
      "Mingmai\n",
      "Mingmoi\n",
      "Mingmui\n",
      "Mingnai\n",
      "Mingnoi\n",
      "Mingnui\n",
      "Mingoai\n",
      "Mingooi\n",
      "Mingoui\n",
      "Mingpai\n",
      "Mingpoi\n",
      "Mingpui\n",
      "Mingqai\n",
      "Mingqoi\n",
      "Mingqui\n",
      "Mingrai\n",
      "Mingroi\n",
      "Mingrui\n",
      "Mingsai\n",
      "Mingsoi\n",
      "Mingsui\n",
      "Mingtai\n",
      "Mingtoi\n",
      "Mingtui\n",
      "Mingxai\n",
      "Mingxoi\n",
      "Mingxui\n",
      "Mingyai\n",
      "Mingyoi\n",
      "Mingyui\n",
      "Mingzai\n",
      "Mingzoi\n",
      "Mingzui\n"
     ]
    }
   ],
   "source": [
    "#Loop\n",
    "\n",
    "for l1 in letter_1:\n",
    "    for l2 in letter_2:\n",
    "        print('Ming' + l1 + l2 + 'i')"
   ]
  }
 ],
 "metadata": {
  "kernelspec": {
   "display_name": "Python 3",
   "language": "python",
   "name": "python3"
  },
  "language_info": {
   "codemirror_mode": {
    "name": "ipython",
    "version": 3
   },
   "file_extension": ".py",
   "mimetype": "text/x-python",
   "name": "python",
   "nbconvert_exporter": "python",
   "pygments_lexer": "ipython3",
   "version": "3.8.5"
  }
 },
 "nbformat": 4,
 "nbformat_minor": 4
}
